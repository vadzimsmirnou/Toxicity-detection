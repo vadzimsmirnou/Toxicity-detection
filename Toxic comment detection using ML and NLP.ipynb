{
 "cells": [
  {
   "cell_type": "markdown",
   "id": "1500f1a8-d264-45d9-9911-81f2d0a4d5c7",
   "metadata": {},
   "source": [
    "# 0. Importing neccesary libraries"
   ]
  },
  {
   "cell_type": "code",
   "execution_count": 51,
   "id": "42ba766e-e094-49ea-8788-142647b39a2f",
   "metadata": {
    "scrolled": true
   },
   "outputs": [],
   "source": [
    "import pandas as pd\n",
    "import numpy as np\n",
    "import seaborn as sns\n",
    "import matplotlib.pyplot as plt\n",
    "\n",
    "import re\n",
    "import nltk\n",
    "from nltk.stem import WordNetLemmatizer as wnl\n",
    "from nltk.corpus import wordnet\n",
    "from sklearn.feature_extraction.text import TfidfVectorizer\n",
    "from sklearn.feature_extraction.text import CountVectorizer\n",
    "from sklearn.model_selection import train_test_split\n",
    "from sklearn.metrics import roc_auc_score\n",
    "from sklearn.metrics import f1_score\n",
    "from sklearn.linear_model import LogisticRegression\n",
    "from sklearn.model_selection import GridSearchCV\n",
    "from sklearn.naive_bayes import MultinomialNB\n",
    "from sklearn.naive_bayes import GaussianNB\n",
    "from sklearn.metrics import accuracy_score, precision_score, recall_score\n",
    "\n",
    "import lightgbm as lgb\n",
    "from sentence_transformers import SentenceTransformer"
   ]
  },
  {
   "cell_type": "code",
   "execution_count": 53,
   "id": "29fc8fcf-f5ad-4880-8536-caf18be24095",
   "metadata": {},
   "outputs": [],
   "source": [
    "# nltk.download('wordnet')\n",
    "# nltk.download('punkt')\n",
    "# nltk.download('omw-1.4')\n",
    "# nltk.download('averaged_perceptron_tagger_eng')\n",
    "# nltk.download('stopwords')"
   ]
  },
  {
   "cell_type": "markdown",
   "id": "7df84fa6-bbeb-4a05-8cf9-c9b55a2e1952",
   "metadata": {},
   "source": [
    "# 1. Data knowledge & preporation"
   ]
  },
  {
   "cell_type": "code",
   "execution_count": 60,
   "id": "06406323-998b-40d2-9369-856d0dd4ad29",
   "metadata": {},
   "outputs": [
    {
     "data": {
      "text/html": [
       "<div>\n",
       "<style scoped>\n",
       "    .dataframe tbody tr th:only-of-type {\n",
       "        vertical-align: middle;\n",
       "    }\n",
       "\n",
       "    .dataframe tbody tr th {\n",
       "        vertical-align: top;\n",
       "    }\n",
       "\n",
       "    .dataframe thead th {\n",
       "        text-align: right;\n",
       "    }\n",
       "</style>\n",
       "<table border=\"1\" class=\"dataframe\">\n",
       "  <thead>\n",
       "    <tr style=\"text-align: right;\">\n",
       "      <th></th>\n",
       "      <th>text</th>\n",
       "      <th>toxic</th>\n",
       "    </tr>\n",
       "  </thead>\n",
       "  <tbody>\n",
       "    <tr>\n",
       "      <th>0</th>\n",
       "      <td>Explanation\\nWhy the edits made under my usern...</td>\n",
       "      <td>0</td>\n",
       "    </tr>\n",
       "    <tr>\n",
       "      <th>1</th>\n",
       "      <td>D'aww! He matches this background colour I'm s...</td>\n",
       "      <td>0</td>\n",
       "    </tr>\n",
       "    <tr>\n",
       "      <th>2</th>\n",
       "      <td>Hey man, I'm really not trying to edit war. It...</td>\n",
       "      <td>0</td>\n",
       "    </tr>\n",
       "    <tr>\n",
       "      <th>3</th>\n",
       "      <td>\"\\nMore\\nI can't make any real suggestions on ...</td>\n",
       "      <td>0</td>\n",
       "    </tr>\n",
       "    <tr>\n",
       "      <th>4</th>\n",
       "      <td>You, sir, are my hero. Any chance you remember...</td>\n",
       "      <td>0</td>\n",
       "    </tr>\n",
       "  </tbody>\n",
       "</table>\n",
       "</div>"
      ],
      "text/plain": [
       "                                                text  toxic\n",
       "0  Explanation\\nWhy the edits made under my usern...      0\n",
       "1  D'aww! He matches this background colour I'm s...      0\n",
       "2  Hey man, I'm really not trying to edit war. It...      0\n",
       "3  \"\\nMore\\nI can't make any real suggestions on ...      0\n",
       "4  You, sir, are my hero. Any chance you remember...      0"
      ]
     },
     "execution_count": 60,
     "metadata": {},
     "output_type": "execute_result"
    }
   ],
   "source": [
    "data = pd.read_csv('toxic_comments.csv', sep=',')\n",
    "\n",
    "data = data.drop(columns=[data.columns[0]])\n",
    "data.head()"
   ]
  },
  {
   "cell_type": "code",
   "execution_count": 62,
   "id": "cc5be31e-85c3-4fc9-ba08-f4b20aa7c35c",
   "metadata": {},
   "outputs": [
    {
     "data": {
      "text/html": [
       "<div>\n",
       "<style scoped>\n",
       "    .dataframe tbody tr th:only-of-type {\n",
       "        vertical-align: middle;\n",
       "    }\n",
       "\n",
       "    .dataframe tbody tr th {\n",
       "        vertical-align: top;\n",
       "    }\n",
       "\n",
       "    .dataframe thead th {\n",
       "        text-align: right;\n",
       "    }\n",
       "</style>\n",
       "<table border=\"1\" class=\"dataframe\">\n",
       "  <thead>\n",
       "    <tr style=\"text-align: right;\">\n",
       "      <th></th>\n",
       "      <th>toxic</th>\n",
       "    </tr>\n",
       "  </thead>\n",
       "  <tbody>\n",
       "    <tr>\n",
       "      <th>count</th>\n",
       "      <td>159292.000000</td>\n",
       "    </tr>\n",
       "    <tr>\n",
       "      <th>mean</th>\n",
       "      <td>0.101612</td>\n",
       "    </tr>\n",
       "    <tr>\n",
       "      <th>std</th>\n",
       "      <td>0.302139</td>\n",
       "    </tr>\n",
       "    <tr>\n",
       "      <th>min</th>\n",
       "      <td>0.000000</td>\n",
       "    </tr>\n",
       "    <tr>\n",
       "      <th>25%</th>\n",
       "      <td>0.000000</td>\n",
       "    </tr>\n",
       "    <tr>\n",
       "      <th>50%</th>\n",
       "      <td>0.000000</td>\n",
       "    </tr>\n",
       "    <tr>\n",
       "      <th>75%</th>\n",
       "      <td>0.000000</td>\n",
       "    </tr>\n",
       "    <tr>\n",
       "      <th>max</th>\n",
       "      <td>1.000000</td>\n",
       "    </tr>\n",
       "  </tbody>\n",
       "</table>\n",
       "</div>"
      ],
      "text/plain": [
       "               toxic\n",
       "count  159292.000000\n",
       "mean        0.101612\n",
       "std         0.302139\n",
       "min         0.000000\n",
       "25%         0.000000\n",
       "50%         0.000000\n",
       "75%         0.000000\n",
       "max         1.000000"
      ]
     },
     "execution_count": 62,
     "metadata": {},
     "output_type": "execute_result"
    }
   ],
   "source": [
    "data.describe()"
   ]
  },
  {
   "cell_type": "code",
   "execution_count": 64,
   "id": "2ca1e118-77eb-4291-bbb2-55111fe191e2",
   "metadata": {},
   "outputs": [
    {
     "data": {
      "text/html": [
       "<div>\n",
       "<style scoped>\n",
       "    .dataframe tbody tr th:only-of-type {\n",
       "        vertical-align: middle;\n",
       "    }\n",
       "\n",
       "    .dataframe tbody tr th {\n",
       "        vertical-align: top;\n",
       "    }\n",
       "\n",
       "    .dataframe thead th {\n",
       "        text-align: right;\n",
       "    }\n",
       "</style>\n",
       "<table border=\"1\" class=\"dataframe\">\n",
       "  <thead>\n",
       "    <tr style=\"text-align: right;\">\n",
       "      <th></th>\n",
       "      <th>proportion</th>\n",
       "    </tr>\n",
       "    <tr>\n",
       "      <th>toxic</th>\n",
       "      <th></th>\n",
       "    </tr>\n",
       "  </thead>\n",
       "  <tbody>\n",
       "    <tr>\n",
       "      <th>0</th>\n",
       "      <td>0.898388</td>\n",
       "    </tr>\n",
       "    <tr>\n",
       "      <th>1</th>\n",
       "      <td>0.101612</td>\n",
       "    </tr>\n",
       "  </tbody>\n",
       "</table>\n",
       "</div>"
      ],
      "text/plain": [
       "       proportion\n",
       "toxic            \n",
       "0        0.898388\n",
       "1        0.101612"
      ]
     },
     "execution_count": 64,
     "metadata": {},
     "output_type": "execute_result"
    }
   ],
   "source": [
    "pd.DataFrame(data.toxic.value_counts(normalize=True))"
   ]
  },
  {
   "cell_type": "code",
   "execution_count": 66,
   "id": "6fe8bff4-9da0-4c3a-a54d-81baee1f13df",
   "metadata": {},
   "outputs": [
    {
     "data": {
      "text/plain": [
       "text     0\n",
       "toxic    0\n",
       "dtype: int64"
      ]
     },
     "execution_count": 66,
     "metadata": {},
     "output_type": "execute_result"
    }
   ],
   "source": [
    "data.isna().sum()"
   ]
  },
  {
   "cell_type": "code",
   "execution_count": 68,
   "id": "a15a4d83-e220-4435-860d-c5d0ab3ecdda",
   "metadata": {},
   "outputs": [
    {
     "data": {
      "text/plain": [
       "text     object\n",
       "toxic     int64\n",
       "dtype: object"
      ]
     },
     "execution_count": 68,
     "metadata": {},
     "output_type": "execute_result"
    }
   ],
   "source": [
    "data.dtypes"
   ]
  },
  {
   "cell_type": "code",
   "execution_count": 70,
   "id": "ca49aa33-f7f2-4857-830c-951637a86164",
   "metadata": {},
   "outputs": [
    {
     "data": {
      "text/html": [
       "<div>\n",
       "<style scoped>\n",
       "    .dataframe tbody tr th:only-of-type {\n",
       "        vertical-align: middle;\n",
       "    }\n",
       "\n",
       "    .dataframe tbody tr th {\n",
       "        vertical-align: top;\n",
       "    }\n",
       "\n",
       "    .dataframe thead th {\n",
       "        text-align: right;\n",
       "    }\n",
       "</style>\n",
       "<table border=\"1\" class=\"dataframe\">\n",
       "  <thead>\n",
       "    <tr style=\"text-align: right;\">\n",
       "      <th></th>\n",
       "      <th>mean</th>\n",
       "      <th>median</th>\n",
       "      <th>min</th>\n",
       "      <th>max</th>\n",
       "    </tr>\n",
       "    <tr>\n",
       "      <th>toxic</th>\n",
       "      <th></th>\n",
       "      <th></th>\n",
       "      <th></th>\n",
       "      <th></th>\n",
       "    </tr>\n",
       "  </thead>\n",
       "  <tbody>\n",
       "    <tr>\n",
       "      <th>0</th>\n",
       "      <td>403.956585</td>\n",
       "      <td>216.0</td>\n",
       "      <td>6</td>\n",
       "      <td>5000</td>\n",
       "    </tr>\n",
       "    <tr>\n",
       "      <th>1</th>\n",
       "      <td>302.932411</td>\n",
       "      <td>128.0</td>\n",
       "      <td>5</td>\n",
       "      <td>5000</td>\n",
       "    </tr>\n",
       "  </tbody>\n",
       "</table>\n",
       "</div>"
      ],
      "text/plain": [
       "             mean  median  min   max\n",
       "toxic                               \n",
       "0      403.956585   216.0    6  5000\n",
       "1      302.932411   128.0    5  5000"
      ]
     },
     "execution_count": 70,
     "metadata": {},
     "output_type": "execute_result"
    }
   ],
   "source": [
    "data['text_length'] = data.text.apply(len)\n",
    "data.groupby(by='toxic').text_length.agg(['mean', 'median', 'min', 'max'])"
   ]
  },
  {
   "cell_type": "code",
   "execution_count": 72,
   "id": "9d10ad2e-e1ec-4634-b1cf-2cc366e7b393",
   "metadata": {
    "scrolled": true
   },
   "outputs": [
    {
     "data": {
      "image/png": "[encoded data removed]",
      "text/plain": [
       "<Figure size 640x480 with 1 Axes>"
      ]
     },
     "metadata": {},
     "output_type": "display_data"
    }
   ],
   "source": [
    "sns.histplot(x=data[data.toxic == 1].text_length, kde=True)\n",
    "plt.xlim(0, 1000)\n",
    "plt.title('Toxic comments length')\n",
    "plt.show()"
   ]
  },
  {
   "cell_type": "code",
   "execution_count": 74,
   "id": "274fb355-5486-4488-90ac-28ef84c0a8fb",
   "metadata": {},
   "outputs": [
    {
     "data": {
      "image/png": "[encoded data removed]",
      "text/plain": [
       "<Figure size 640x480 with 1 Axes>"
      ]
     },
     "metadata": {},
     "output_type": "display_data"
    }
   ],
   "source": [
    "sns.histplot(x=data[data.toxic == 0].text_length, kde=True)\n",
    "plt.title('Non Toxic comments length')\n",
    "plt.xlim(0, 1000)\n",
    "plt.show()"
   ]
  },
  {
   "cell_type": "code",
   "execution_count": 75,
   "id": "91d438e7-4a13-4a22-88a6-7d780c4ecdc7",
   "metadata": {},
   "outputs": [
    {
     "data": {
      "text/html": [
       "<div>\n",
       "<style scoped>\n",
       "    .dataframe tbody tr th:only-of-type {\n",
       "        vertical-align: middle;\n",
       "    }\n",
       "\n",
       "    .dataframe tbody tr th {\n",
       "        vertical-align: top;\n",
       "    }\n",
       "\n",
       "    .dataframe thead th {\n",
       "        text-align: right;\n",
       "    }\n",
       "</style>\n",
       "<table border=\"1\" class=\"dataframe\">\n",
       "  <thead>\n",
       "    <tr style=\"text-align: right;\">\n",
       "      <th></th>\n",
       "      <th>toxic</th>\n",
       "      <th>text_length</th>\n",
       "    </tr>\n",
       "  </thead>\n",
       "  <tbody>\n",
       "    <tr>\n",
       "      <th>toxic</th>\n",
       "      <td>1.000000</td>\n",
       "      <td>-0.051725</td>\n",
       "    </tr>\n",
       "    <tr>\n",
       "      <th>text_length</th>\n",
       "      <td>-0.051725</td>\n",
       "      <td>1.000000</td>\n",
       "    </tr>\n",
       "  </tbody>\n",
       "</table>\n",
       "</div>"
      ],
      "text/plain": [
       "                toxic  text_length\n",
       "toxic        1.000000    -0.051725\n",
       "text_length -0.051725     1.000000"
      ]
     },
     "execution_count": 75,
     "metadata": {},
     "output_type": "execute_result"
    }
   ],
   "source": [
    "data[['toxic', 'text_length']].corr()"
   ]
  },
  {
   "cell_type": "code",
   "execution_count": 78,
   "id": "9d72501b-2435-416f-9595-2980ff846a96",
   "metadata": {},
   "outputs": [
    {
     "data": {
      "text/html": [
       "<div>\n",
       "<style scoped>\n",
       "    .dataframe tbody tr th:only-of-type {\n",
       "        vertical-align: middle;\n",
       "    }\n",
       "\n",
       "    .dataframe tbody tr th {\n",
       "        vertical-align: top;\n",
       "    }\n",
       "\n",
       "    .dataframe thead th {\n",
       "        text-align: right;\n",
       "    }\n",
       "</style>\n",
       "<table border=\"1\" class=\"dataframe\">\n",
       "  <thead>\n",
       "    <tr style=\"text-align: right;\">\n",
       "      <th></th>\n",
       "      <th>text</th>\n",
       "      <th>toxic</th>\n",
       "      <th>text_length</th>\n",
       "    </tr>\n",
       "  </thead>\n",
       "  <tbody>\n",
       "    <tr>\n",
       "      <th>0</th>\n",
       "      <td>Explanation\\nWhy the edits made under my usern...</td>\n",
       "      <td>0</td>\n",
       "      <td>264</td>\n",
       "    </tr>\n",
       "    <tr>\n",
       "      <th>1</th>\n",
       "      <td>D'aww! He matches this background colour I'm s...</td>\n",
       "      <td>0</td>\n",
       "      <td>112</td>\n",
       "    </tr>\n",
       "    <tr>\n",
       "      <th>2</th>\n",
       "      <td>Hey man, I'm really not trying to edit war. It...</td>\n",
       "      <td>0</td>\n",
       "      <td>233</td>\n",
       "    </tr>\n",
       "    <tr>\n",
       "      <th>3</th>\n",
       "      <td>\"\\nMore\\nI can't make any real suggestions on ...</td>\n",
       "      <td>0</td>\n",
       "      <td>622</td>\n",
       "    </tr>\n",
       "    <tr>\n",
       "      <th>4</th>\n",
       "      <td>You, sir, are my hero. Any chance you remember...</td>\n",
       "      <td>0</td>\n",
       "      <td>67</td>\n",
       "    </tr>\n",
       "    <tr>\n",
       "      <th>...</th>\n",
       "      <td>...</td>\n",
       "      <td>...</td>\n",
       "      <td>...</td>\n",
       "    </tr>\n",
       "    <tr>\n",
       "      <th>159287</th>\n",
       "      <td>\":::::And for the second time of asking, when ...</td>\n",
       "      <td>0</td>\n",
       "      <td>295</td>\n",
       "    </tr>\n",
       "    <tr>\n",
       "      <th>159288</th>\n",
       "      <td>You should be ashamed of yourself \\n\\nThat is ...</td>\n",
       "      <td>0</td>\n",
       "      <td>99</td>\n",
       "    </tr>\n",
       "    <tr>\n",
       "      <th>159289</th>\n",
       "      <td>Spitzer \\n\\nUmm, theres no actual article for ...</td>\n",
       "      <td>0</td>\n",
       "      <td>81</td>\n",
       "    </tr>\n",
       "    <tr>\n",
       "      <th>159290</th>\n",
       "      <td>And it looks like it was actually you who put ...</td>\n",
       "      <td>0</td>\n",
       "      <td>116</td>\n",
       "    </tr>\n",
       "    <tr>\n",
       "      <th>159291</th>\n",
       "      <td>\"\\nAnd ... I really don't think you understand...</td>\n",
       "      <td>0</td>\n",
       "      <td>189</td>\n",
       "    </tr>\n",
       "  </tbody>\n",
       "</table>\n",
       "<p>159292 rows × 3 columns</p>\n",
       "</div>"
      ],
      "text/plain": [
       "                                                     text  toxic  text_length\n",
       "0       Explanation\\nWhy the edits made under my usern...      0          264\n",
       "1       D'aww! He matches this background colour I'm s...      0          112\n",
       "2       Hey man, I'm really not trying to edit war. It...      0          233\n",
       "3       \"\\nMore\\nI can't make any real suggestions on ...      0          622\n",
       "4       You, sir, are my hero. Any chance you remember...      0           67\n",
       "...                                                   ...    ...          ...\n",
       "159287  \":::::And for the second time of asking, when ...      0          295\n",
       "159288  You should be ashamed of yourself \\n\\nThat is ...      0           99\n",
       "159289  Spitzer \\n\\nUmm, theres no actual article for ...      0           81\n",
       "159290  And it looks like it was actually you who put ...      0          116\n",
       "159291  \"\\nAnd ... I really don't think you understand...      0          189\n",
       "\n",
       "[159292 rows x 3 columns]"
      ]
     },
     "execution_count": 78,
     "metadata": {},
     "output_type": "execute_result"
    }
   ],
   "source": [
    "data"
   ]
  },
  {
   "cell_type": "markdown",
   "id": "38e6b2ba-d853-4c20-9770-deb347971cb0",
   "metadata": {},
   "source": [
    "# 2. Lemmatization & stop-words"
   ]
  },
  {
   "cell_type": "code",
   "execution_count": 107,
   "id": "2a2d12e8-518e-4581-b897-e90b6f226574",
   "metadata": {},
   "outputs": [],
   "source": [
    "def prep_text(text:str) -> str:\n",
    "    prep_text = re.sub(r\"[^a-z\\s]\", \" \", text.lower())\n",
    "    prep_text = prep_text.split()\n",
    "    return prep_text\n",
    "\n",
    "tag_dict = {\"J\": wordnet.ADJ, \"N\": wordnet.NOUN, \"V\": wordnet.VERB, \"R\": wordnet.ADV}\n",
    "\n",
    "def get_wordnet_pos(word):\n",
    "    tag = nltk.pos_tag([word])[0][1][0].upper()\n",
    "    return tag_dict.get(tag, wordnet.NOUN)\n",
    "\n",
    "def lemmatize_text(text):\n",
    "    new_text = []\n",
    "    for word in prep_text(text):\n",
    "        new_text.append(wnl().lemmatize(word, get_wordnet_pos(word)))\n",
    "    return \" \".join(new_text)"
   ]
  },
  {
   "cell_type": "code",
   "execution_count": 109,
   "id": "5a381274-fdb2-4b83-8b89-91bb64a46004",
   "metadata": {},
   "outputs": [],
   "source": [
    "# it takes about 10 minutes to run this cell\n",
    "# data['text'] = data['text'].apply(lemmatize_text)"
   ]
  },
  {
   "cell_type": "code",
   "execution_count": 111,
   "id": "a611fd00-6440-4a62-a8a3-16f71d247752",
   "metadata": {},
   "outputs": [],
   "source": [
    "# data.to_csv('lemmatized_text.csv', index=False)"
   ]
  },
  {
   "cell_type": "code",
   "execution_count": 113,
   "id": "bb96b06a-0a3c-4e49-bc5f-f949ee7b340f",
   "metadata": {},
   "outputs": [
    {
     "data": {
      "text/plain": [
       "text           0\n",
       "toxic          0\n",
       "text_length    0\n",
       "dtype: int64"
      ]
     },
     "execution_count": 113,
     "metadata": {},
     "output_type": "execute_result"
    }
   ],
   "source": [
    "data = pd.read_csv('lemmatized_text.csv').dropna()\n",
    "data.isna().sum()"
   ]
  },
  {
   "cell_type": "markdown",
   "id": "2fe9dd56-2fbe-474f-b902-daefadab3a77",
   "metadata": {},
   "source": [
    "## *1) most frequent toxic words*"
   ]
  },
  {
   "cell_type": "code",
   "execution_count": 115,
   "id": "d1ab0e32-8941-473f-beb8-73fc6694155b",
   "metadata": {},
   "outputs": [
    {
     "data": {
      "text/plain": [
       "array(['article', 'bitch', 'block', 'die', 'don', 'faggot', 'fuck', 'gay',\n",
       "       'hate', 'just', 'know', 'like', 'make', 'nigger', 'page', 'people',\n",
       "       'say', 'shit', 'suck', 'wikipedia'], dtype=object)"
      ]
     },
     "execution_count": 115,
     "metadata": {},
     "output_type": "execute_result"
    }
   ],
   "source": [
    "toxic_corpus = data[data.toxic == 1].text\n",
    "non_toxic_corpus = data[data.toxic == 0].text\n",
    "\n",
    "vectorizer = TfidfVectorizer(stop_words='english', max_features=20)\n",
    "vectorizer.fit_transform(toxic_corpus)\n",
    "toxic_words = vectorizer.get_feature_names_out()\n",
    "toxic_words"
   ]
  },
  {
   "cell_type": "markdown",
   "id": "caf1390a-8659-4c42-8b7b-83262baa9231",
   "metadata": {},
   "source": [
    "## *1) most frequent non-toxic words*"
   ]
  },
  {
   "cell_type": "code",
   "execution_count": 117,
   "id": "ebe4db22-6b76-4cae-8e5d-952623abb006",
   "metadata": {},
   "outputs": [
    {
     "data": {
      "text/plain": [
       "array(['add', 'article', 'don', 'edit', 'just', 'know', 'like', 'link',\n",
       "       'make', 'need', 'page', 'people', 'say', 'source', 'talk', 'think',\n",
       "       'time', 'use', 'user', 'wikipedia'], dtype=object)"
      ]
     },
     "execution_count": 117,
     "metadata": {},
     "output_type": "execute_result"
    }
   ],
   "source": [
    "vectorizer.fit(non_toxic_corpus)\n",
    "non_toxic_words = vectorizer.get_feature_names_out()\n",
    "non_toxic_words"
   ]
  },
  {
   "cell_type": "markdown",
   "id": "3b5f814f-2a1a-49e1-8bdf-07f1e678be58",
   "metadata": {},
   "source": [
    "# 3. Transforming data via TF-IDF"
   ]
  },
  {
   "cell_type": "code",
   "execution_count": 154,
   "id": "d3a3e7a9-93fc-4fbc-8f09-ac52905f3517",
   "metadata": {},
   "outputs": [
    {
     "name": "stdout",
     "output_type": "stream",
     "text": [
      "train toxic\n",
      "0    0.897717\n",
      "1    0.102283\n",
      "Name: proportion, dtype: float64\n",
      "test toxic\n",
      "0    0.89801\n",
      "1    0.10199\n",
      "Name: proportion, dtype: float64\n"
     ]
    }
   ],
   "source": [
    "X = data['text']\n",
    "y = data['toxic']\n",
    "\n",
    "X_train, X_test, y_train, y_test = train_test_split(X, y, test_size=0.4, random_state=42)\n",
    "X_test, X_valid, y_test, y_valid = train_test_split(X_test, y_test, test_size=0.5, random_state=42)\n",
    "\n",
    "print('train', y_train.value_counts(normalize=True))\n",
    "print('test', y_test.value_counts(normalize=True))"
   ]
  },
  {
   "cell_type": "code",
   "execution_count": 156,
   "id": "095f2a08-f9bc-402a-8843-36b67143f234",
   "metadata": {},
   "outputs": [
    {
     "data": {
      "text/plain": [
       "[(31856,), (31857,), (31856,), (31857,)]"
      ]
     },
     "execution_count": 156,
     "metadata": {},
     "output_type": "execute_result"
    }
   ],
   "source": [
    "[i.shape for i in [X_test, X_valid, y_text, y_valid]]"
   ]
  },
  {
   "cell_type": "code",
   "execution_count": 158,
   "id": "880ac679-0862-4d64-b4c2-be4d19ee1437",
   "metadata": {
    "scrolled": true
   },
   "outputs": [],
   "source": [
    "vectorizer = TfidfVectorizer(stop_words='english')\n",
    "\n",
    "X_train = vectorizer.fit_transform(X_train)\n",
    "X_test = vectorizer.transform(X_test)\n",
    "X_valid = vectorizer.transform(X_valid)"
   ]
  },
  {
   "cell_type": "markdown",
   "id": "08807e9f-7b60-40d6-9567-221698494494",
   "metadata": {},
   "source": [
    "# 4. Fitting models on TF-IDF data:"
   ]
  },
  {
   "cell_type": "markdown",
   "id": "7b518486-42de-44fc-b420-eba14f84c5ad",
   "metadata": {},
   "source": [
    "## *1) logistic regression*"
   ]
  },
  {
   "cell_type": "code",
   "execution_count": 174,
   "id": "606593d5-4b2d-47ad-a36b-5655d20d8a8b",
   "metadata": {},
   "outputs": [
    {
     "name": "stdout",
     "output_type": "stream",
     "text": [
      "best params for logistic regression {'C': 10.0, 'penalty': 'l2', 'solver': 'liblinear'}\n",
      "f1 score: 0.7705687945729692\n"
     ]
    }
   ],
   "source": [
    "param_grid = {\n",
    "    'C': [i for i in np.logspace(-1, 3, num=5)],\n",
    "    'penalty': ['l1', 'l2'],\n",
    "    'solver': ['liblinear'],\n",
    "}\n",
    "\n",
    "model = LogisticRegression()\n",
    "\n",
    "grid_search = GridSearchCV(model, param_grid, cv=5, scoring=\"f1\", n_jobs=-1)\n",
    "grid_search.fit(X_train, y_train)\n",
    "\n",
    "print(\"best params for logistic regression\", grid_search.best_params_)\n",
    "\n",
    "model_1 = grid_search.best_estimator_\n",
    "y_pred = model_1.predict(X_test)\n",
    "f1 = f1_score(y_test, y_pred)\n",
    "\n",
    "print(f'f1 score: {f1}')"
   ]
  },
  {
   "cell_type": "markdown",
   "id": "c7684ede-b404-4f91-b94f-a7e904db6adb",
   "metadata": {},
   "source": [
    "## *2) Multinomial Naive Bayes*"
   ]
  },
  {
   "cell_type": "code",
   "execution_count": 177,
   "id": "1a99f732-4df0-40e5-9b90-85952631c474",
   "metadata": {},
   "outputs": [
    {
     "name": "stdout",
     "output_type": "stream",
     "text": [
      "best params for multinomial naive bayes {'alpha': 0.01}\n",
      "f1 score: 0.6618732261116367\n"
     ]
    }
   ],
   "source": [
    "param_grid = {\n",
    "    \"alpha\": [i for i in np.logspace(-5, 2, num=8)],\n",
    "}\n",
    "\n",
    "model = MultinomialNB()\n",
    "\n",
    "grid_search = GridSearchCV(model, param_grid, cv=5, scoring=\"f1\", n_jobs=-1)\n",
    "grid_search.fit(X_train, y_train)\n",
    "\n",
    "print(\"best params for multinomial naive bayes\", grid_search.best_params_)\n",
    "\n",
    "model_2 = grid_search.best_estimator_\n",
    "y_pred = model_2.predict(X_test)\n",
    "f1 = f1_score(y_test, y_pred)\n",
    "\n",
    "print(f'f1 score: {f1}')"
   ]
  },
  {
   "cell_type": "markdown",
   "id": "53332d9f-ce69-42ab-9281-e85303f316ac",
   "metadata": {},
   "source": [
    "## *3) Gradient Boosting*"
   ]
  },
  {
   "cell_type": "code",
   "execution_count": 184,
   "id": "c3900098-66c7-472c-935a-9b694d8db5b5",
   "metadata": {
    "scrolled": true
   },
   "outputs": [
    {
     "name": "stdout",
     "output_type": "stream",
     "text": [
      "[LightGBM] [Info] Number of positive: 9775, number of negative: 85793\n",
      "[LightGBM] [Info] Auto-choosing col-wise multi-threading, the overhead of testing was 2.483122 seconds.\n",
      "You can set `force_col_wise=true` to remove the overhead.\n",
      "[LightGBM] [Info] Total Bins 417247\n",
      "[LightGBM] [Info] Number of data points in the train set: 95568, number of used features: 8166\n",
      "[LightGBM] [Info] [binary:BoostFromScore]: pavg=0.102283 -> initscore=-2.172109\n",
      "[LightGBM] [Info] Start training from score -2.172109\n",
      "[20]\tvalid_0's binary_logloss: 0.189614\n",
      "[40]\tvalid_0's binary_logloss: 0.162321\n",
      "[60]\tvalid_0's binary_logloss: 0.149157\n",
      "[80]\tvalid_0's binary_logloss: 0.14134\n",
      "[100]\tvalid_0's binary_logloss: 0.136038\n",
      "[120]\tvalid_0's binary_logloss: 0.132216\n",
      "[140]\tvalid_0's binary_logloss: 0.129426\n",
      "[160]\tvalid_0's binary_logloss: 0.127208\n",
      "[180]\tvalid_0's binary_logloss: 0.125501\n",
      "[200]\tvalid_0's binary_logloss: 0.124101\n",
      "[220]\tvalid_0's binary_logloss: 0.123085\n",
      "[240]\tvalid_0's binary_logloss: 0.12237\n",
      "[260]\tvalid_0's binary_logloss: 0.12152\n",
      "[280]\tvalid_0's binary_logloss: 0.12075\n",
      "[300]\tvalid_0's binary_logloss: 0.120281\n",
      "[320]\tvalid_0's binary_logloss: 0.119895\n",
      "[340]\tvalid_0's binary_logloss: 0.11932\n",
      "[360]\tvalid_0's binary_logloss: 0.119032\n",
      "[380]\tvalid_0's binary_logloss: 0.11891\n",
      "[400]\tvalid_0's binary_logloss: 0.118613\n",
      "[420]\tvalid_0's binary_logloss: 0.118432\n",
      "[440]\tvalid_0's binary_logloss: 0.118298\n",
      "[460]\tvalid_0's binary_logloss: 0.118227\n",
      "[480]\tvalid_0's binary_logloss: 0.118112\n",
      "[500]\tvalid_0's binary_logloss: 0.117991\n",
      "[520]\tvalid_0's binary_logloss: 0.117929\n",
      "[540]\tvalid_0's binary_logloss: 0.1179\n",
      "[560]\tvalid_0's binary_logloss: 0.117853\n",
      "[580]\tvalid_0's binary_logloss: 0.117792\n",
      "[600]\tvalid_0's binary_logloss: 0.117864\n",
      "f1 score: 0.7768366464995679\n"
     ]
    }
   ],
   "source": [
    "model_3 = lgb.LGBMClassifier(\n",
    "    n_estimators=600,\n",
    "    max_depth=100,\n",
    "    learning_rate=0.07\n",
    ")\n",
    "\n",
    "evals_result = {}\n",
    "model_3.fit(X_train,\n",
    "          y_train,\n",
    "          eval_set=[(X_test, y_test)],\n",
    "          eval_metric = 'logloss',\n",
    "         callbacks=[lgb.log_evaluation(20),\n",
    "                    lgb.record_evaluation(evals_result)])\n",
    "\n",
    "y_pred = model_3.predict(X_test)\n",
    "f1 = f1_score(y_test, y_pred)\n",
    "\n",
    "print(f'f1 score: {f1}')"
   ]
  },
  {
   "cell_type": "markdown",
   "id": "a049d41a-80e7-4c60-aa78-b9d6b7ff08ec",
   "metadata": {},
   "source": [
    "# 5. Getting data embedding using Sequence BERT"
   ]
  },
  {
   "cell_type": "code",
   "execution_count": 198,
   "id": "594f9794-4ad4-4435-9bfa-5f9c6d9a87e3",
   "metadata": {
    "scrolled": true
   },
   "outputs": [],
   "source": [
    "model = SentenceTransformer(\"all-MiniLM-L6-v2\")"
   ]
  },
  {
   "cell_type": "code",
   "execution_count": 199,
   "id": "5620b20c-4690-40b2-aad4-3b7e8a37b42f",
   "metadata": {},
   "outputs": [],
   "source": [
    "def prep_text_sbert(text:str) -> str:\n",
    "    prep_text = re.sub(r\"[^a-z\\s]\", \" \", text.lower())\n",
    "    prep_text = prep_text.split()\n",
    "    return \" \".join(prep_text)[:500]"
   ]
  },
  {
   "cell_type": "code",
   "execution_count": 202,
   "id": "91a76c63-e656-43c9-9432-821645957efc",
   "metadata": {},
   "outputs": [],
   "source": [
    "data = pd.read_csv('toxic_comments.csv', sep=',').drop(columns=['Unnamed: 0'])\n",
    "data['text'] = data.text.apply(prep_text_sbert)\n",
    "comments = data[\"text\"].tolist()"
   ]
  },
  {
   "cell_type": "code",
   "execution_count": 15,
   "id": "719fe278-8b04-41fc-bee7-6503deb0fa61",
   "metadata": {},
   "outputs": [
    {
     "data": {
      "application/vnd.jupyter.widget-view+json": {
       "model_id": "dcb3f39f4d4d4f279574c92c9aa421da",
       "version_major": 2,
       "version_minor": 0
      },
      "text/plain": [
       "Batches:   0%|          | 0/2489 [00:00<?, ?it/s]"
      ]
     },
     "metadata": {},
     "output_type": "display_data"
    },
    {
     "data": {
      "text/plain": [
       "(159292, 384)"
      ]
     },
     "execution_count": 15,
     "metadata": {},
     "output_type": "execute_result"
    }
   ],
   "source": [
    "# it takes about an hour to run this code, results are in embedding_sbert.csv\n",
    "# X_sbert = model.encode(comments, batch_size=64)\n",
    "# X_sbert.shape"
   ]
  },
  {
   "cell_type": "code",
   "execution_count": 27,
   "id": "9a587e69-7ece-47d9-9466-49d1dc2a4256",
   "metadata": {},
   "outputs": [],
   "source": [
    "# new_data = pd.DataFrame(X_sbert)\n",
    "# new_data['toxic'] = data['toxic']\n",
    "# new_data.to_csv('embedding_sbert.csv', index=False) "
   ]
  },
  {
   "cell_type": "code",
   "execution_count": 204,
   "id": "863f03a0-d660-4742-9245-e75ddc271f8b",
   "metadata": {},
   "outputs": [
    {
     "data": {
      "text/plain": [
       "0"
      ]
     },
     "execution_count": 204,
     "metadata": {},
     "output_type": "execute_result"
    }
   ],
   "source": [
    "data = pd.read_csv('embedding_sbert.csv')\n",
    "data.isna().sum().sum()"
   ]
  },
  {
   "cell_type": "markdown",
   "id": "3ee5fd3e-3041-4f5f-ad63-116262cc0e98",
   "metadata": {},
   "source": [
    "# 6. Fitting models on SBERT embedding data:"
   ]
  },
  {
   "cell_type": "code",
   "execution_count": 208,
   "id": "896722f8-eeb7-4ecd-b399-27aefc5f1383",
   "metadata": {},
   "outputs": [
    {
     "name": "stdout",
     "output_type": "stream",
     "text": [
      "train toxic\n",
      "0    0.897609\n",
      "1    0.102391\n",
      "Name: proportion, dtype: float64\n",
      "test toxic\n",
      "0    0.900217\n",
      "1    0.099783\n",
      "Name: proportion, dtype: float64\n"
     ]
    }
   ],
   "source": [
    "y = data.toxic\n",
    "X  = data.drop(columns=['toxic'])\n",
    "\n",
    "X_train_sbert, X_test_sbert, y_train_sbert, y_test_sbert = train_test_split(X, y, test_size=0.4, random_state=42)\n",
    "X_valid_sbert, X_test_sbert, y_valid_sbert, y_test_sbert = train_test_split(X_test_sbert, y_test_sbert, test_size=0.5, random_state=42)\n",
    "\n",
    "print('train', y_train_sbert.value_counts(normalize=True))\n",
    "print('test', y_test_sbert.value_counts(normalize=True))"
   ]
  },
  {
   "cell_type": "code",
   "execution_count": 216,
   "id": "f0455c94-7d10-49b5-8a36-acdc9fb8f978",
   "metadata": {},
   "outputs": [
    {
     "name": "stdout",
     "output_type": "stream",
     "text": [
      "[LightGBM] [Info] Number of positive: 9786, number of negative: 85789\n",
      "[LightGBM] [Info] Auto-choosing col-wise multi-threading, the overhead of testing was 0.323284 seconds.\n",
      "You can set `force_col_wise=true` to remove the overhead.\n",
      "[LightGBM] [Info] Total Bins 97920\n",
      "[LightGBM] [Info] Number of data points in the train set: 95575, number of used features: 384\n",
      "[LightGBM] [Info] [binary:BoostFromScore]: pavg=0.102391 -> initscore=-2.170938\n",
      "[LightGBM] [Info] Start training from score -2.170938\n",
      "[10]\tvalid_0's binary_logloss: 0.228977\n",
      "[20]\tvalid_0's binary_logloss: 0.198761\n",
      "[30]\tvalid_0's binary_logloss: 0.183432\n",
      "[40]\tvalid_0's binary_logloss: 0.173677\n",
      "[50]\tvalid_0's binary_logloss: 0.16736\n",
      "[60]\tvalid_0's binary_logloss: 0.162901\n",
      "[70]\tvalid_0's binary_logloss: 0.159409\n",
      "[80]\tvalid_0's binary_logloss: 0.156976\n",
      "[90]\tvalid_0's binary_logloss: 0.155116\n",
      "[100]\tvalid_0's binary_logloss: 0.153545\n",
      "[110]\tvalid_0's binary_logloss: 0.152289\n",
      "[120]\tvalid_0's binary_logloss: 0.151036\n",
      "[130]\tvalid_0's binary_logloss: 0.149984\n",
      "[140]\tvalid_0's binary_logloss: 0.149221\n",
      "[150]\tvalid_0's binary_logloss: 0.148402\n",
      "[160]\tvalid_0's binary_logloss: 0.147777\n",
      "[170]\tvalid_0's binary_logloss: 0.147219\n",
      "[180]\tvalid_0's binary_logloss: 0.146791\n",
      "[190]\tvalid_0's binary_logloss: 0.146578\n",
      "[200]\tvalid_0's binary_logloss: 0.146194\n",
      "[210]\tvalid_0's binary_logloss: 0.146049\n",
      "[220]\tvalid_0's binary_logloss: 0.145726\n",
      "[230]\tvalid_0's binary_logloss: 0.145534\n",
      "[240]\tvalid_0's binary_logloss: 0.145457\n",
      "[250]\tvalid_0's binary_logloss: 0.145259\n",
      "[260]\tvalid_0's binary_logloss: 0.145153\n",
      "[270]\tvalid_0's binary_logloss: 0.145125\n",
      "[280]\tvalid_0's binary_logloss: 0.145258\n",
      "[290]\tvalid_0's binary_logloss: 0.145172\n",
      "f1-score: 0.6825681492109039\n"
     ]
    }
   ],
   "source": [
    "model_3_sbert = lgb.LGBMClassifier(\n",
    "    n_estimators=290,\n",
    "    max_depth=50,\n",
    "    learning_rate=0.1,\n",
    ")\n",
    "\n",
    "evals_result = {}\n",
    "model_3_sbert.fit(X_train_sbert,\n",
    "          y_train_sbert,\n",
    "          eval_set=[(X_test_sbert, y_test_sbert)],\n",
    "          eval_metric = 'logloss',\n",
    "          callbacks=[lgb.log_evaluation(10), lgb.record_evaluation(evals_result)])\n",
    "\n",
    "y_pred = model_3_sbert.predict(X_valid_sbert)\n",
    "\n",
    "f1 = f1_score(y_valid_sbert, y_pred)\n",
    "print(f'f1-score: {f1}')"
   ]
  },
  {
   "cell_type": "code",
   "execution_count": 218,
   "id": "494b4b57-04d3-4a65-9dc5-52d6e2d23a27",
   "metadata": {},
   "outputs": [
    {
     "name": "stdout",
     "output_type": "stream",
     "text": [
      "best params for logistic regression {'C': 1000.0, 'penalty': 'l1', 'solver': 'liblinear'}\n",
      "f1 score: 0.7215949188426253\n"
     ]
    }
   ],
   "source": [
    "param_grid = {\n",
    "    'C': [i for i in np.logspace(-1, 3, num=5)],\n",
    "    'penalty': ['l1', 'l2'],\n",
    "    'solver': ['liblinear'],\n",
    "}\n",
    "\n",
    "model = LogisticRegression()\n",
    "\n",
    "grid_search = GridSearchCV(model, param_grid, cv=5, scoring=\"f1\", n_jobs=-1)\n",
    "grid_search.fit(X_train_sbert, y_train_sbert)\n",
    "\n",
    "print(\"best params for logistic regression\", grid_search.best_params_)\n",
    "\n",
    "model_1_sbert = grid_search.best_estimator_\n",
    "y_pred = model_1_sbert.predict(X_test_sbert)\n",
    "f1 = f1_score(y_test_sbert, y_pred)\n",
    "\n",
    "print(f'f1 score: {f1}')"
   ]
  },
  {
   "cell_type": "code",
   "execution_count": 224,
   "id": "c0e4e48a-72b5-421a-91d0-48876c099e53",
   "metadata": {},
   "outputs": [
    {
     "name": "stdout",
     "output_type": "stream",
     "text": [
      "best params for naive bayes {'var_smoothing': 1e-05}\n",
      "f1 score: 0.5637194782026982\n"
     ]
    }
   ],
   "source": [
    "param_grid = {\n",
    "    'var_smoothing': [i for i in np.logspace(-5, 2, num=10)],\n",
    "}\n",
    "\n",
    "model = GaussianNB()\n",
    "\n",
    "grid_search = GridSearchCV(model, param_grid, cv=5, scoring=\"f1\", n_jobs=-1)\n",
    "grid_search.fit(X_train_sbert, y_train_sbert)\n",
    "\n",
    "print('best params for naive bayes', grid_search.best_params_)\n",
    "\n",
    "model_2_sbert = grid_search.best_estimator_\n",
    "y_pred = model_2_sbert.predict(X_test_sbert)\n",
    "f1 = f1_score(y_test_sbert, y_pred)\n",
    "\n",
    "print(f'f1 score: {f1}')"
   ]
  },
  {
   "cell_type": "markdown",
   "id": "b017bd37-1d2a-414d-970c-44496ffbf72b",
   "metadata": {},
   "source": [
    "# 7. Validation"
   ]
  },
  {
   "cell_type": "code",
   "execution_count": 233,
   "id": "cfde30d0-9e43-473a-af34-06b644645739",
   "metadata": {},
   "outputs": [],
   "source": [
    "def evaluate_model(model, X_valid, y_valid):\n",
    "    y_pred = model.predict(X_valid)\n",
    "    if hasattr(model, \"predict_proba\"):\n",
    "        y_proba = model.predict_proba(X_valid)[:, 1]\n",
    "        roc_auc = roc_auc_score(y_valid, y_proba)\n",
    "    else:\n",
    "        roc_auc = None\n",
    "    metrics = {\n",
    "        \"Accuracy\": accuracy_score(y_valid, y_pred),\n",
    "        \"Precision\": precision_score(y_valid, y_pred, zero_division=0),\n",
    "        \"Recall\": recall_score(y_valid, y_pred, zero_division=0),\n",
    "        \"F1-score\": f1_score(y_valid, y_pred, zero_division=0),\n",
    "        \"ROC-AUC\": roc_auc\n",
    "    }\n",
    "    return metrics"
   ]
  },
  {
   "cell_type": "code",
   "execution_count": 293,
   "id": "433e7177-a989-4a2a-b4fa-c6ec7d7d22cf",
   "metadata": {},
   "outputs": [
    {
     "data": {
      "text/html": [
       "<div>\n",
       "<style scoped>\n",
       "    .dataframe tbody tr th:only-of-type {\n",
       "        vertical-align: middle;\n",
       "    }\n",
       "\n",
       "    .dataframe tbody tr th {\n",
       "        vertical-align: top;\n",
       "    }\n",
       "\n",
       "    .dataframe thead th {\n",
       "        text-align: right;\n",
       "    }\n",
       "</style>\n",
       "<table border=\"1\" class=\"dataframe\">\n",
       "  <thead>\n",
       "    <tr style=\"text-align: right;\">\n",
       "      <th></th>\n",
       "      <th>Accuracy</th>\n",
       "      <th>Precision</th>\n",
       "      <th>Recall</th>\n",
       "      <th>F1-score</th>\n",
       "      <th>ROC-AUC</th>\n",
       "    </tr>\n",
       "    <tr>\n",
       "      <th>model</th>\n",
       "      <th></th>\n",
       "      <th></th>\n",
       "      <th></th>\n",
       "      <th></th>\n",
       "      <th></th>\n",
       "    </tr>\n",
       "  </thead>\n",
       "  <tbody>\n",
       "    <tr>\n",
       "      <th>SBERT + log_reg</th>\n",
       "      <td>0.948176</td>\n",
       "      <td>0.805685</td>\n",
       "      <td>0.642347</td>\n",
       "      <td>0.714804</td>\n",
       "      <td>0.956187</td>\n",
       "    </tr>\n",
       "    <tr>\n",
       "      <th>SBERT + NB</th>\n",
       "      <td>0.873972</td>\n",
       "      <td>0.433300</td>\n",
       "      <td>0.800683</td>\n",
       "      <td>0.562302</td>\n",
       "      <td>0.924477</td>\n",
       "    </tr>\n",
       "    <tr>\n",
       "      <th>SBERT + Grad Boosting</th>\n",
       "      <td>0.944441</td>\n",
       "      <td>0.808068</td>\n",
       "      <td>0.590810</td>\n",
       "      <td>0.682568</td>\n",
       "      <td>0.950568</td>\n",
       "    </tr>\n",
       "    <tr>\n",
       "      <th>TF-IDF + log_reg</th>\n",
       "      <td>0.958000</td>\n",
       "      <td>0.873107</td>\n",
       "      <td>0.674786</td>\n",
       "      <td>0.761242</td>\n",
       "      <td>0.967146</td>\n",
       "    </tr>\n",
       "    <tr>\n",
       "      <th>TF-IDF + NB</th>\n",
       "      <td>0.944376</td>\n",
       "      <td>0.853435</td>\n",
       "      <td>0.530528</td>\n",
       "      <td>0.654311</td>\n",
       "      <td>0.929560</td>\n",
       "    </tr>\n",
       "    <tr>\n",
       "      <th>TF-IDF + Grad Boosting</th>\n",
       "      <td>0.959601</td>\n",
       "      <td>0.883702</td>\n",
       "      <td>0.682695</td>\n",
       "      <td>0.770302</td>\n",
       "      <td>0.964176</td>\n",
       "    </tr>\n",
       "  </tbody>\n",
       "</table>\n",
       "</div>"
      ],
      "text/plain": [
       "                        Accuracy  Precision    Recall  F1-score   ROC-AUC\n",
       "model                                                                    \n",
       "SBERT + log_reg         0.948176   0.805685  0.642347  0.714804  0.956187\n",
       "SBERT + NB              0.873972   0.433300  0.800683  0.562302  0.924477\n",
       "SBERT + Grad Boosting   0.944441   0.808068  0.590810  0.682568  0.950568\n",
       "TF-IDF + log_reg        0.958000   0.873107  0.674786  0.761242  0.967146\n",
       "TF-IDF + NB             0.944376   0.853435  0.530528  0.654311  0.929560\n",
       "TF-IDF + Grad Boosting  0.959601   0.883702  0.682695  0.770302  0.964176"
      ]
     },
     "execution_count": 293,
     "metadata": {},
     "output_type": "execute_result"
    }
   ],
   "source": [
    "validation = []\n",
    "\n",
    "for i in [model_1_sbert,model_2_sbert,model_3_sbert]:\n",
    "    validation.append(pd.DataFrame.from_dict(\n",
    "        evaluate_model(i, X_valid_sbert, y_valid_sbert),\n",
    "        orient='index'))\n",
    "\n",
    "for i in [model_1, model_2, model_3]:\n",
    "    validation.append(pd.DataFrame.from_dict(\n",
    "        evaluate_model(i, X_valid, y_valid),\n",
    "        orient='index'))\n",
    "    \n",
    "validation_table = pd.concat(validation, axis=1).T\n",
    "validation_table['model'] = ['SBERT + log_reg', 'SBERT + NB', 'SBERT + Grad Boosting', 'TF-IDF + log_reg', 'TF-IDF + NB', 'TF-IDF + Grad Boosting']\n",
    "validation_table.set_index('model', inplace=True)\n",
    "validation_table"
   ]
  }
 ],
 "metadata": {
  "kernelspec": {
   "display_name": "Python [conda env:base] *",
   "language": "python",
   "name": "conda-base-py"
  },
  "language_info": {
   "codemirror_mode": {
    "name": "ipython",
    "version": 3
   },
   "file_extension": ".py",
   "mimetype": "text/x-python",
   "name": "python",
   "nbconvert_exporter": "python",
   "pygments_lexer": "ipython3",
   "version": "3.12.7"
  }
 },
 "nbformat": 4,
 "nbformat_minor": 5
}
